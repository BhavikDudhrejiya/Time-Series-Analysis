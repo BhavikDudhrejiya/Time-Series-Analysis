{
  "nbformat": 4,
  "nbformat_minor": 0,
  "metadata": {
    "colab": {
      "name": "Facebook Prophet Evaluation.ipynb",
      "provenance": [],
      "collapsed_sections": []
    },
    "kernelspec": {
      "name": "python3",
      "display_name": "Python 3"
    },
    "language_info": {
      "name": "python"
    },
    "widgets": {
      "application/vnd.jupyter.widget-state+json": {
        "a98421980077415e8137405e46011e27": {
          "model_module": "@jupyter-widgets/controls",
          "model_name": "HBoxModel",
          "state": {
            "_view_name": "HBoxView",
            "_dom_classes": [],
            "_model_name": "HBoxModel",
            "_view_module": "@jupyter-widgets/controls",
            "_model_module_version": "1.5.0",
            "_view_count": null,
            "_view_module_version": "1.5.0",
            "box_style": "",
            "layout": "IPY_MODEL_24e74b58cd224f94974e5ec3ccbbcc73",
            "_model_module": "@jupyter-widgets/controls",
            "children": [
              "IPY_MODEL_ed9ec7c536f642238ba57eb60bd32736",
              "IPY_MODEL_3280483901454d288cc018d350a3628a"
            ]
          }
        },
        "24e74b58cd224f94974e5ec3ccbbcc73": {
          "model_module": "@jupyter-widgets/base",
          "model_name": "LayoutModel",
          "state": {
            "_view_name": "LayoutView",
            "grid_template_rows": null,
            "right": null,
            "justify_content": null,
            "_view_module": "@jupyter-widgets/base",
            "overflow": null,
            "_model_module_version": "1.2.0",
            "_view_count": null,
            "flex_flow": null,
            "width": null,
            "min_width": null,
            "border": null,
            "align_items": null,
            "bottom": null,
            "_model_module": "@jupyter-widgets/base",
            "top": null,
            "grid_column": null,
            "overflow_y": null,
            "overflow_x": null,
            "grid_auto_flow": null,
            "grid_area": null,
            "grid_template_columns": null,
            "flex": null,
            "_model_name": "LayoutModel",
            "justify_items": null,
            "grid_row": null,
            "max_height": null,
            "align_content": null,
            "visibility": null,
            "align_self": null,
            "height": null,
            "min_height": null,
            "padding": null,
            "grid_auto_rows": null,
            "grid_gap": null,
            "max_width": null,
            "order": null,
            "_view_module_version": "1.2.0",
            "grid_template_areas": null,
            "object_position": null,
            "object_fit": null,
            "grid_auto_columns": null,
            "margin": null,
            "display": null,
            "left": null
          }
        },
        "ed9ec7c536f642238ba57eb60bd32736": {
          "model_module": "@jupyter-widgets/controls",
          "model_name": "FloatProgressModel",
          "state": {
            "_view_name": "ProgressView",
            "style": "IPY_MODEL_57d40c7316594f95ab10082a5c59704c",
            "_dom_classes": [],
            "description": "100%",
            "_model_name": "FloatProgressModel",
            "bar_style": "success",
            "max": 9,
            "_view_module": "@jupyter-widgets/controls",
            "_model_module_version": "1.5.0",
            "value": 9,
            "_view_count": null,
            "_view_module_version": "1.5.0",
            "orientation": "horizontal",
            "min": 0,
            "description_tooltip": null,
            "_model_module": "@jupyter-widgets/controls",
            "layout": "IPY_MODEL_775e30e7c90b418ba4709724e61a567a"
          }
        },
        "3280483901454d288cc018d350a3628a": {
          "model_module": "@jupyter-widgets/controls",
          "model_name": "HTMLModel",
          "state": {
            "_view_name": "HTMLView",
            "style": "IPY_MODEL_673fec731b0f490cb61fa331e47546a3",
            "_dom_classes": [],
            "description": "",
            "_model_name": "HTMLModel",
            "placeholder": "​",
            "_view_module": "@jupyter-widgets/controls",
            "_model_module_version": "1.5.0",
            "value": " 9/9 [00:39&lt;00:00,  4.38s/it]",
            "_view_count": null,
            "_view_module_version": "1.5.0",
            "description_tooltip": null,
            "_model_module": "@jupyter-widgets/controls",
            "layout": "IPY_MODEL_a4c1f16c47a146a7963a940b79bc3591"
          }
        },
        "57d40c7316594f95ab10082a5c59704c": {
          "model_module": "@jupyter-widgets/controls",
          "model_name": "ProgressStyleModel",
          "state": {
            "_view_name": "StyleView",
            "_model_name": "ProgressStyleModel",
            "description_width": "initial",
            "_view_module": "@jupyter-widgets/base",
            "_model_module_version": "1.5.0",
            "_view_count": null,
            "_view_module_version": "1.2.0",
            "bar_color": null,
            "_model_module": "@jupyter-widgets/controls"
          }
        },
        "775e30e7c90b418ba4709724e61a567a": {
          "model_module": "@jupyter-widgets/base",
          "model_name": "LayoutModel",
          "state": {
            "_view_name": "LayoutView",
            "grid_template_rows": null,
            "right": null,
            "justify_content": null,
            "_view_module": "@jupyter-widgets/base",
            "overflow": null,
            "_model_module_version": "1.2.0",
            "_view_count": null,
            "flex_flow": null,
            "width": null,
            "min_width": null,
            "border": null,
            "align_items": null,
            "bottom": null,
            "_model_module": "@jupyter-widgets/base",
            "top": null,
            "grid_column": null,
            "overflow_y": null,
            "overflow_x": null,
            "grid_auto_flow": null,
            "grid_area": null,
            "grid_template_columns": null,
            "flex": null,
            "_model_name": "LayoutModel",
            "justify_items": null,
            "grid_row": null,
            "max_height": null,
            "align_content": null,
            "visibility": null,
            "align_self": null,
            "height": null,
            "min_height": null,
            "padding": null,
            "grid_auto_rows": null,
            "grid_gap": null,
            "max_width": null,
            "order": null,
            "_view_module_version": "1.2.0",
            "grid_template_areas": null,
            "object_position": null,
            "object_fit": null,
            "grid_auto_columns": null,
            "margin": null,
            "display": null,
            "left": null
          }
        },
        "673fec731b0f490cb61fa331e47546a3": {
          "model_module": "@jupyter-widgets/controls",
          "model_name": "DescriptionStyleModel",
          "state": {
            "_view_name": "StyleView",
            "_model_name": "DescriptionStyleModel",
            "description_width": "",
            "_view_module": "@jupyter-widgets/base",
            "_model_module_version": "1.5.0",
            "_view_count": null,
            "_view_module_version": "1.2.0",
            "_model_module": "@jupyter-widgets/controls"
          }
        },
        "a4c1f16c47a146a7963a940b79bc3591": {
          "model_module": "@jupyter-widgets/base",
          "model_name": "LayoutModel",
          "state": {
            "_view_name": "LayoutView",
            "grid_template_rows": null,
            "right": null,
            "justify_content": null,
            "_view_module": "@jupyter-widgets/base",
            "overflow": null,
            "_model_module_version": "1.2.0",
            "_view_count": null,
            "flex_flow": null,
            "width": null,
            "min_width": null,
            "border": null,
            "align_items": null,
            "bottom": null,
            "_model_module": "@jupyter-widgets/base",
            "top": null,
            "grid_column": null,
            "overflow_y": null,
            "overflow_x": null,
            "grid_auto_flow": null,
            "grid_area": null,
            "grid_template_columns": null,
            "flex": null,
            "_model_name": "LayoutModel",
            "justify_items": null,
            "grid_row": null,
            "max_height": null,
            "align_content": null,
            "visibility": null,
            "align_self": null,
            "height": null,
            "min_height": null,
            "padding": null,
            "grid_auto_rows": null,
            "grid_gap": null,
            "max_width": null,
            "order": null,
            "_view_module_version": "1.2.0",
            "grid_template_areas": null,
            "object_position": null,
            "object_fit": null,
            "grid_auto_columns": null,
            "margin": null,
            "display": null,
            "left": null
          }
        }
      }
    }
  },
  "cells": [
    {
      "cell_type": "markdown",
      "metadata": {
        "id": "xkivwZwDk5E8"
      },
      "source": [
        "#Loading libraries"
      ]
    },
    {
      "cell_type": "code",
      "metadata": {
        "id": "XH4dc56JbtGE"
      },
      "source": [
        "#Importing libraries\n",
        "import pandas as pd\n",
        "import matplotlib.pyplot as plt\n",
        "from fbprophet import Prophet\n",
        "from statsmodels.tools.eval_measures import rmse\n",
        "from fbprophet.diagnostics import cross_validation, performance_metrics\n",
        "from fbprophet.plot import plot_cross_validation_metric"
      ],
      "execution_count": 2,
      "outputs": []
    },
    {
      "cell_type": "markdown",
      "metadata": {
        "id": "RX9vf5fVlJfk"
      },
      "source": [
        "#Loading Data"
      ]
    },
    {
      "cell_type": "code",
      "metadata": {
        "id": "ps5SsLTnb_be"
      },
      "source": [
        "#Loading data\n",
        "data = pd.read_csv('/content/Miles_Traveled.csv')"
      ],
      "execution_count": 4,
      "outputs": []
    },
    {
      "cell_type": "markdown",
      "metadata": {
        "id": "fq7z6Pp_lNv1"
      },
      "source": [
        "#Checking Data"
      ]
    },
    {
      "cell_type": "code",
      "metadata": {
        "colab": {
          "base_uri": "https://localhost:8080/",
          "height": 419
        },
        "id": "XXICtmBHcJ9x",
        "outputId": "79f04351-e99f-42db-e727-acb037c7706c"
      },
      "source": [
        "#Checking data\n",
        "data"
      ],
      "execution_count": 5,
      "outputs": [
        {
          "output_type": "execute_result",
          "data": {
            "text/html": [
              "<div>\n",
              "<style scoped>\n",
              "    .dataframe tbody tr th:only-of-type {\n",
              "        vertical-align: middle;\n",
              "    }\n",
              "\n",
              "    .dataframe tbody tr th {\n",
              "        vertical-align: top;\n",
              "    }\n",
              "\n",
              "    .dataframe thead th {\n",
              "        text-align: right;\n",
              "    }\n",
              "</style>\n",
              "<table border=\"1\" class=\"dataframe\">\n",
              "  <thead>\n",
              "    <tr style=\"text-align: right;\">\n",
              "      <th></th>\n",
              "      <th>DATE</th>\n",
              "      <th>TRFVOLUSM227NFWA</th>\n",
              "    </tr>\n",
              "  </thead>\n",
              "  <tbody>\n",
              "    <tr>\n",
              "      <th>0</th>\n",
              "      <td>1970-01-01</td>\n",
              "      <td>80173.0</td>\n",
              "    </tr>\n",
              "    <tr>\n",
              "      <th>1</th>\n",
              "      <td>1970-02-01</td>\n",
              "      <td>77442.0</td>\n",
              "    </tr>\n",
              "    <tr>\n",
              "      <th>2</th>\n",
              "      <td>1970-03-01</td>\n",
              "      <td>90223.0</td>\n",
              "    </tr>\n",
              "    <tr>\n",
              "      <th>3</th>\n",
              "      <td>1970-04-01</td>\n",
              "      <td>89956.0</td>\n",
              "    </tr>\n",
              "    <tr>\n",
              "      <th>4</th>\n",
              "      <td>1970-05-01</td>\n",
              "      <td>97972.0</td>\n",
              "    </tr>\n",
              "    <tr>\n",
              "      <th>...</th>\n",
              "      <td>...</td>\n",
              "      <td>...</td>\n",
              "    </tr>\n",
              "    <tr>\n",
              "      <th>583</th>\n",
              "      <td>2018-08-01</td>\n",
              "      <td>286608.0</td>\n",
              "    </tr>\n",
              "    <tr>\n",
              "      <th>584</th>\n",
              "      <td>2018-09-01</td>\n",
              "      <td>260595.0</td>\n",
              "    </tr>\n",
              "    <tr>\n",
              "      <th>585</th>\n",
              "      <td>2018-10-01</td>\n",
              "      <td>282174.0</td>\n",
              "    </tr>\n",
              "    <tr>\n",
              "      <th>586</th>\n",
              "      <td>2018-11-01</td>\n",
              "      <td>258590.0</td>\n",
              "    </tr>\n",
              "    <tr>\n",
              "      <th>587</th>\n",
              "      <td>2018-12-01</td>\n",
              "      <td>268413.0</td>\n",
              "    </tr>\n",
              "  </tbody>\n",
              "</table>\n",
              "<p>588 rows × 2 columns</p>\n",
              "</div>"
            ],
            "text/plain": [
              "           DATE  TRFVOLUSM227NFWA\n",
              "0    1970-01-01           80173.0\n",
              "1    1970-02-01           77442.0\n",
              "2    1970-03-01           90223.0\n",
              "3    1970-04-01           89956.0\n",
              "4    1970-05-01           97972.0\n",
              "..          ...               ...\n",
              "583  2018-08-01          286608.0\n",
              "584  2018-09-01          260595.0\n",
              "585  2018-10-01          282174.0\n",
              "586  2018-11-01          258590.0\n",
              "587  2018-12-01          268413.0\n",
              "\n",
              "[588 rows x 2 columns]"
            ]
          },
          "metadata": {
            "tags": []
          },
          "execution_count": 5
        }
      ]
    },
    {
      "cell_type": "markdown",
      "metadata": {
        "id": "mLR4I9VNcN3O"
      },
      "source": [
        "The data consist of 49 years i.e.588 months."
      ]
    },
    {
      "cell_type": "markdown",
      "metadata": {
        "id": "hi51VXH2lUfU"
      },
      "source": [
        "#Checking data info"
      ]
    },
    {
      "cell_type": "code",
      "metadata": {
        "colab": {
          "base_uri": "https://localhost:8080/"
        },
        "id": "x2W6EONtcLtj",
        "outputId": "583416b6-2a78-4eb5-f5a8-9570533360ec"
      },
      "source": [
        "#Checking data info\n",
        "data.info()"
      ],
      "execution_count": 6,
      "outputs": [
        {
          "output_type": "stream",
          "text": [
            "<class 'pandas.core.frame.DataFrame'>\n",
            "RangeIndex: 588 entries, 0 to 587\n",
            "Data columns (total 2 columns):\n",
            " #   Column            Non-Null Count  Dtype  \n",
            "---  ------            --------------  -----  \n",
            " 0   DATE              588 non-null    object \n",
            " 1   TRFVOLUSM227NFWA  588 non-null    float64\n",
            "dtypes: float64(1), object(1)\n",
            "memory usage: 9.3+ KB\n"
          ],
          "name": "stdout"
        }
      ]
    },
    {
      "cell_type": "markdown",
      "metadata": {
        "id": "MRh6_4yPlX6D"
      },
      "source": [
        "Date have object data type"
      ]
    },
    {
      "cell_type": "markdown",
      "metadata": {
        "id": "OVH8Uh_AldtD"
      },
      "source": [
        "#Changing the columns names"
      ]
    },
    {
      "cell_type": "code",
      "metadata": {
        "id": "KHlx9GGfcr1R"
      },
      "source": [
        "#Changing the name of columns\n",
        "data.columns = ['ds', 'y']"
      ],
      "execution_count": 7,
      "outputs": []
    },
    {
      "cell_type": "markdown",
      "metadata": {
        "id": "cCzmqWzklkRD"
      },
      "source": [
        "#Changing data type of date as datetime format"
      ]
    },
    {
      "cell_type": "code",
      "metadata": {
        "id": "3Dy7sldsc_cv"
      },
      "source": [
        "#Changing the date into datetime\n",
        "data['ds'] = pd.to_datetime(data['ds'])"
      ],
      "execution_count": 8,
      "outputs": []
    },
    {
      "cell_type": "code",
      "metadata": {
        "colab": {
          "base_uri": "https://localhost:8080/"
        },
        "id": "K4cNhHDclzIQ",
        "outputId": "7ff79f9a-c791-4e35-f953-38018967ca4a"
      },
      "source": [
        "#Checking the data type\n",
        "data.dtypes"
      ],
      "execution_count": 9,
      "outputs": [
        {
          "output_type": "execute_result",
          "data": {
            "text/plain": [
              "ds    datetime64[ns]\n",
              "y            float64\n",
              "dtype: object"
            ]
          },
          "metadata": {
            "tags": []
          },
          "execution_count": 9
        }
      ]
    },
    {
      "cell_type": "markdown",
      "metadata": {
        "id": "NBlQj7g8xTT0"
      },
      "source": [
        "#Plotting the data"
      ]
    },
    {
      "cell_type": "code",
      "metadata": {
        "colab": {
          "base_uri": "https://localhost:8080/",
          "height": 551
        },
        "id": "5KJqRSqyxSMf",
        "outputId": "6656bfa4-e8e8-41ea-e25f-650ec21e6e0c"
      },
      "source": [
        "#Plotting the data\n",
        "data.plot(x = 'ds', y = 'y', figsize = (16,9));"
      ],
      "execution_count": 10,
      "outputs": [
        {
          "output_type": "display_data",
          "data": {
            "image/png": "[encoded data removed]",
            "text/plain": [
              "<Figure size 1152x648 with 1 Axes>"
            ]
          },
          "metadata": {
            "tags": [],
            "needs_background": "light"
          }
        }
      ]
    },
    {
      "cell_type": "markdown",
      "metadata": {
        "id": "w7RXCKr8xn51"
      },
      "source": [
        "#Splitting data into train & test"
      ]
    },
    {
      "cell_type": "code",
      "metadata": {
        "colab": {
          "base_uri": "https://localhost:8080/"
        },
        "id": "NtAv6C09xnVv",
        "outputId": "04c2b9e6-b4e9-4b79-edad-47ba38d30c5e"
      },
      "source": [
        "#Checking the size of the data\n",
        "data.shape"
      ],
      "execution_count": 11,
      "outputs": [
        {
          "output_type": "execute_result",
          "data": {
            "text/plain": [
              "(588, 2)"
            ]
          },
          "metadata": {
            "tags": []
          },
          "execution_count": 11
        }
      ]
    },
    {
      "cell_type": "code",
      "metadata": {
        "colab": {
          "base_uri": "https://localhost:8080/"
        },
        "id": "jSyXLg7_xwNk",
        "outputId": "8cdf6050-4d39-4349-a0e3-d0f1517f2570"
      },
      "source": [
        "#Splitting data into train and test\n",
        "train = data[:576]\n",
        "test = data[576:]\n",
        "train.shape, test.shape"
      ],
      "execution_count": 12,
      "outputs": [
        {
          "output_type": "execute_result",
          "data": {
            "text/plain": [
              "((576, 2), (12, 2))"
            ]
          },
          "metadata": {
            "tags": []
          },
          "execution_count": 12
        }
      ]
    },
    {
      "cell_type": "markdown",
      "metadata": {
        "id": "rv1lfOoGl6Lj"
      },
      "source": [
        "#Creating Facebook Prophet Model"
      ]
    },
    {
      "cell_type": "code",
      "metadata": {
        "colab": {
          "base_uri": "https://localhost:8080/"
        },
        "id": "HNG4q2s1duzc",
        "outputId": "16b5fe33-df15-4a0f-f900-3820fafbb0ac"
      },
      "source": [
        "#Creating facebook prophat model with default parameters\n",
        "m = Prophet()\n",
        "\n",
        "#Fitting the model\n",
        "m.fit(data)"
      ],
      "execution_count": 13,
      "outputs": [
        {
          "output_type": "stream",
          "text": [
            "INFO:numexpr.utils:NumExpr defaulting to 2 threads.\n",
            "INFO:fbprophet:Disabling weekly seasonality. Run prophet with weekly_seasonality=True to override this.\n",
            "INFO:fbprophet:Disabling daily seasonality. Run prophet with daily_seasonality=True to override this.\n"
          ],
          "name": "stderr"
        },
        {
          "output_type": "execute_result",
          "data": {
            "text/plain": [
              "<fbprophet.forecaster.Prophet at 0x7f0d93a30a90>"
            ]
          },
          "metadata": {
            "tags": []
          },
          "execution_count": 13
        }
      ]
    },
    {
      "cell_type": "markdown",
      "metadata": {
        "id": "dUCDyoDpmJJM"
      },
      "source": [
        "#Forecasting on the model on next 12 months"
      ]
    },
    {
      "cell_type": "code",
      "metadata": {
        "colab": {
          "base_uri": "https://localhost:8080/",
          "height": 309
        },
        "id": "QPSrfYM4d-Jo",
        "outputId": "b5076075-d7b0-40f6-a3c5-24a5e5148130"
      },
      "source": [
        "#Creating dataframe for period\n",
        "future = m.make_future_dataframe(periods=12, freq = 'MS')\n",
        "\n",
        "#Forecasting on the data\n",
        "forecast = m.predict(future)\n",
        "forecast.head()"
      ],
      "execution_count": 14,
      "outputs": [
        {
          "output_type": "execute_result",
          "data": {
            "text/html": [
              "<div>\n",
              "<style scoped>\n",
              "    .dataframe tbody tr th:only-of-type {\n",
              "        vertical-align: middle;\n",
              "    }\n",
              "\n",
              "    .dataframe tbody tr th {\n",
              "        vertical-align: top;\n",
              "    }\n",
              "\n",
              "    .dataframe thead th {\n",
              "        text-align: right;\n",
              "    }\n",
              "</style>\n",
              "<table border=\"1\" class=\"dataframe\">\n",
              "  <thead>\n",
              "    <tr style=\"text-align: right;\">\n",
              "      <th></th>\n",
              "      <th>ds</th>\n",
              "      <th>trend</th>\n",
              "      <th>yhat_lower</th>\n",
              "      <th>yhat_upper</th>\n",
              "      <th>trend_lower</th>\n",
              "      <th>trend_upper</th>\n",
              "      <th>additive_terms</th>\n",
              "      <th>additive_terms_lower</th>\n",
              "      <th>additive_terms_upper</th>\n",
              "      <th>yearly</th>\n",
              "      <th>yearly_lower</th>\n",
              "      <th>yearly_upper</th>\n",
              "      <th>multiplicative_terms</th>\n",
              "      <th>multiplicative_terms_lower</th>\n",
              "      <th>multiplicative_terms_upper</th>\n",
              "      <th>yhat</th>\n",
              "    </tr>\n",
              "  </thead>\n",
              "  <tbody>\n",
              "    <tr>\n",
              "      <th>0</th>\n",
              "      <td>1970-01-01</td>\n",
              "      <td>94381.078057</td>\n",
              "      <td>70003.608699</td>\n",
              "      <td>81576.739146</td>\n",
              "      <td>94381.078057</td>\n",
              "      <td>94381.078057</td>\n",
              "      <td>-18587.558897</td>\n",
              "      <td>-18587.558897</td>\n",
              "      <td>-18587.558897</td>\n",
              "      <td>-18587.558897</td>\n",
              "      <td>-18587.558897</td>\n",
              "      <td>-18587.558897</td>\n",
              "      <td>0.0</td>\n",
              "      <td>0.0</td>\n",
              "      <td>0.0</td>\n",
              "      <td>75793.519160</td>\n",
              "    </tr>\n",
              "    <tr>\n",
              "      <th>1</th>\n",
              "      <td>1970-02-01</td>\n",
              "      <td>94687.217925</td>\n",
              "      <td>61793.321183</td>\n",
              "      <td>72754.199502</td>\n",
              "      <td>94687.217925</td>\n",
              "      <td>94687.217925</td>\n",
              "      <td>-27343.846075</td>\n",
              "      <td>-27343.846075</td>\n",
              "      <td>-27343.846075</td>\n",
              "      <td>-27343.846075</td>\n",
              "      <td>-27343.846075</td>\n",
              "      <td>-27343.846075</td>\n",
              "      <td>0.0</td>\n",
              "      <td>0.0</td>\n",
              "      <td>0.0</td>\n",
              "      <td>67343.371850</td>\n",
              "    </tr>\n",
              "    <tr>\n",
              "      <th>2</th>\n",
              "      <td>1970-03-01</td>\n",
              "      <td>94963.731353</td>\n",
              "      <td>89918.182496</td>\n",
              "      <td>100322.535280</td>\n",
              "      <td>94963.731353</td>\n",
              "      <td>94963.731353</td>\n",
              "      <td>16.176699</td>\n",
              "      <td>16.176699</td>\n",
              "      <td>16.176699</td>\n",
              "      <td>16.176699</td>\n",
              "      <td>16.176699</td>\n",
              "      <td>16.176699</td>\n",
              "      <td>0.0</td>\n",
              "      <td>0.0</td>\n",
              "      <td>0.0</td>\n",
              "      <td>94979.908053</td>\n",
              "    </tr>\n",
              "    <tr>\n",
              "      <th>3</th>\n",
              "      <td>1970-04-01</td>\n",
              "      <td>95269.871221</td>\n",
              "      <td>89945.823541</td>\n",
              "      <td>100724.102250</td>\n",
              "      <td>95269.871221</td>\n",
              "      <td>95269.871221</td>\n",
              "      <td>148.612177</td>\n",
              "      <td>148.612177</td>\n",
              "      <td>148.612177</td>\n",
              "      <td>148.612177</td>\n",
              "      <td>148.612177</td>\n",
              "      <td>148.612177</td>\n",
              "      <td>0.0</td>\n",
              "      <td>0.0</td>\n",
              "      <td>0.0</td>\n",
              "      <td>95418.483398</td>\n",
              "    </tr>\n",
              "    <tr>\n",
              "      <th>4</th>\n",
              "      <td>1970-05-01</td>\n",
              "      <td>95566.135609</td>\n",
              "      <td>99371.728785</td>\n",
              "      <td>110881.267602</td>\n",
              "      <td>95566.135609</td>\n",
              "      <td>95566.135609</td>\n",
              "      <td>9820.595792</td>\n",
              "      <td>9820.595792</td>\n",
              "      <td>9820.595792</td>\n",
              "      <td>9820.595792</td>\n",
              "      <td>9820.595792</td>\n",
              "      <td>9820.595792</td>\n",
              "      <td>0.0</td>\n",
              "      <td>0.0</td>\n",
              "      <td>0.0</td>\n",
              "      <td>105386.731401</td>\n",
              "    </tr>\n",
              "  </tbody>\n",
              "</table>\n",
              "</div>"
            ],
            "text/plain": [
              "          ds         trend  ...  multiplicative_terms_upper           yhat\n",
              "0 1970-01-01  94381.078057  ...                         0.0   75793.519160\n",
              "1 1970-02-01  94687.217925  ...                         0.0   67343.371850\n",
              "2 1970-03-01  94963.731353  ...                         0.0   94979.908053\n",
              "3 1970-04-01  95269.871221  ...                         0.0   95418.483398\n",
              "4 1970-05-01  95566.135609  ...                         0.0  105386.731401\n",
              "\n",
              "[5 rows x 16 columns]"
            ]
          },
          "metadata": {
            "tags": []
          },
          "execution_count": 14
        }
      ]
    },
    {
      "cell_type": "code",
      "metadata": {
        "colab": {
          "base_uri": "https://localhost:8080/"
        },
        "id": "v4jS0AxFf_Wf",
        "outputId": "a87d6889-575f-4734-d7fd-aa2ee8b775f6"
      },
      "source": [
        "#Extracting columns\n",
        "forecast.columns"
      ],
      "execution_count": 15,
      "outputs": [
        {
          "output_type": "execute_result",
          "data": {
            "text/plain": [
              "Index(['ds', 'trend', 'yhat_lower', 'yhat_upper', 'trend_lower', 'trend_upper',\n",
              "       'additive_terms', 'additive_terms_lower', 'additive_terms_upper',\n",
              "       'yearly', 'yearly_lower', 'yearly_upper', 'multiplicative_terms',\n",
              "       'multiplicative_terms_lower', 'multiplicative_terms_upper', 'yhat'],\n",
              "      dtype='object')"
            ]
          },
          "metadata": {
            "tags": []
          },
          "execution_count": 15
        }
      ]
    },
    {
      "cell_type": "code",
      "metadata": {
        "colab": {
          "base_uri": "https://localhost:8080/",
          "height": 419
        },
        "id": "sI3Vu9qmf_Zg",
        "outputId": "e233f51c-25a6-47cf-fa3e-43c891ff23f2"
      },
      "source": [
        "#Displaying 'ds', 'yhat_lower', 'yhat_upper', 'yhat'\n",
        "forecast[['ds', 'yhat_lower', 'yhat_upper', 'yhat']]"
      ],
      "execution_count": 16,
      "outputs": [
        {
          "output_type": "execute_result",
          "data": {
            "text/html": [
              "<div>\n",
              "<style scoped>\n",
              "    .dataframe tbody tr th:only-of-type {\n",
              "        vertical-align: middle;\n",
              "    }\n",
              "\n",
              "    .dataframe tbody tr th {\n",
              "        vertical-align: top;\n",
              "    }\n",
              "\n",
              "    .dataframe thead th {\n",
              "        text-align: right;\n",
              "    }\n",
              "</style>\n",
              "<table border=\"1\" class=\"dataframe\">\n",
              "  <thead>\n",
              "    <tr style=\"text-align: right;\">\n",
              "      <th></th>\n",
              "      <th>ds</th>\n",
              "      <th>yhat_lower</th>\n",
              "      <th>yhat_upper</th>\n",
              "      <th>yhat</th>\n",
              "    </tr>\n",
              "  </thead>\n",
              "  <tbody>\n",
              "    <tr>\n",
              "      <th>0</th>\n",
              "      <td>1970-01-01</td>\n",
              "      <td>70003.608699</td>\n",
              "      <td>81576.739146</td>\n",
              "      <td>75793.519160</td>\n",
              "    </tr>\n",
              "    <tr>\n",
              "      <th>1</th>\n",
              "      <td>1970-02-01</td>\n",
              "      <td>61793.321183</td>\n",
              "      <td>72754.199502</td>\n",
              "      <td>67343.371850</td>\n",
              "    </tr>\n",
              "    <tr>\n",
              "      <th>2</th>\n",
              "      <td>1970-03-01</td>\n",
              "      <td>89918.182496</td>\n",
              "      <td>100322.535280</td>\n",
              "      <td>94979.908053</td>\n",
              "    </tr>\n",
              "    <tr>\n",
              "      <th>3</th>\n",
              "      <td>1970-04-01</td>\n",
              "      <td>89945.823541</td>\n",
              "      <td>100724.102250</td>\n",
              "      <td>95418.483398</td>\n",
              "    </tr>\n",
              "    <tr>\n",
              "      <th>4</th>\n",
              "      <td>1970-05-01</td>\n",
              "      <td>99371.728785</td>\n",
              "      <td>110881.267602</td>\n",
              "      <td>105386.731401</td>\n",
              "    </tr>\n",
              "    <tr>\n",
              "      <th>...</th>\n",
              "      <td>...</td>\n",
              "      <td>...</td>\n",
              "      <td>...</td>\n",
              "      <td>...</td>\n",
              "    </tr>\n",
              "    <tr>\n",
              "      <th>595</th>\n",
              "      <td>2019-08-01</td>\n",
              "      <td>280286.167556</td>\n",
              "      <td>291276.394455</td>\n",
              "      <td>285637.866352</td>\n",
              "    </tr>\n",
              "    <tr>\n",
              "      <th>596</th>\n",
              "      <td>2019-09-01</td>\n",
              "      <td>261979.500155</td>\n",
              "      <td>273019.613013</td>\n",
              "      <td>267385.100033</td>\n",
              "    </tr>\n",
              "    <tr>\n",
              "      <th>597</th>\n",
              "      <td>2019-10-01</td>\n",
              "      <td>268663.576996</td>\n",
              "      <td>280049.217802</td>\n",
              "      <td>274737.093382</td>\n",
              "    </tr>\n",
              "    <tr>\n",
              "      <th>598</th>\n",
              "      <td>2019-11-01</td>\n",
              "      <td>255618.427138</td>\n",
              "      <td>266508.859279</td>\n",
              "      <td>261205.008814</td>\n",
              "    </tr>\n",
              "    <tr>\n",
              "      <th>599</th>\n",
              "      <td>2019-12-01</td>\n",
              "      <td>257520.549199</td>\n",
              "      <td>269059.666065</td>\n",
              "      <td>262872.166145</td>\n",
              "    </tr>\n",
              "  </tbody>\n",
              "</table>\n",
              "<p>600 rows × 4 columns</p>\n",
              "</div>"
            ],
            "text/plain": [
              "            ds     yhat_lower     yhat_upper           yhat\n",
              "0   1970-01-01   70003.608699   81576.739146   75793.519160\n",
              "1   1970-02-01   61793.321183   72754.199502   67343.371850\n",
              "2   1970-03-01   89918.182496  100322.535280   94979.908053\n",
              "3   1970-04-01   89945.823541  100724.102250   95418.483398\n",
              "4   1970-05-01   99371.728785  110881.267602  105386.731401\n",
              "..         ...            ...            ...            ...\n",
              "595 2019-08-01  280286.167556  291276.394455  285637.866352\n",
              "596 2019-09-01  261979.500155  273019.613013  267385.100033\n",
              "597 2019-10-01  268663.576996  280049.217802  274737.093382\n",
              "598 2019-11-01  255618.427138  266508.859279  261205.008814\n",
              "599 2019-12-01  257520.549199  269059.666065  262872.166145\n",
              "\n",
              "[600 rows x 4 columns]"
            ]
          },
          "metadata": {
            "tags": []
          },
          "execution_count": 16
        }
      ]
    },
    {
      "cell_type": "markdown",
      "metadata": {
        "id": "p-s3YaW_skxN"
      },
      "source": [
        "#Visualizing the Actual data vs Forecast data"
      ]
    },
    {
      "cell_type": "code",
      "metadata": {
        "colab": {
          "base_uri": "https://localhost:8080/",
          "height": 441
        },
        "id": "73hBAbMEf_ce",
        "outputId": "049491e0-ce18-4bbf-8a24-5b92fce4acd8"
      },
      "source": [
        "#Plotting data\n",
        "m.plot(forecast);"
      ],
      "execution_count": 17,
      "outputs": [
        {
          "output_type": "display_data",
          "data": {
            "image/png": "[encoded data removed]",
            "text/plain": [
              "<Figure size 720x432 with 1 Axes>"
            ]
          },
          "metadata": {
            "tags": []
          }
        }
      ]
    },
    {
      "cell_type": "code",
      "metadata": {
        "colab": {
          "base_uri": "https://localhost:8080/",
          "height": 508
        },
        "id": "CaXs78JNsxMF",
        "outputId": "f504f9a7-3fc7-431d-9e1c-1e0b6bdf50c8"
      },
      "source": [
        "#Plotting actual and forecast the data\n",
        "ax = forecast.plot(x = 'ds',\n",
        "                   y = 'yhat',\n",
        "                   label = 'Prediction',\n",
        "                   legend = True,\n",
        "                   figsize = (12,8));\n",
        "\n",
        "test.plot(x = 'ds',\n",
        "          y = 'y',\n",
        "          label = 'Actual',\n",
        "          legend = True,\n",
        "          ax = ax,\n",
        "          xlim = ('2018-01-01', '2019-01-01'));"
      ],
      "execution_count": 18,
      "outputs": [
        {
          "output_type": "display_data",
          "data": {
            "image/png": "[encoded data removed]",
            "text/plain": [
              "<Figure size 864x576 with 1 Axes>"
            ]
          },
          "metadata": {
            "tags": [],
            "needs_background": "light"
          }
        }
      ]
    },
    {
      "cell_type": "markdown",
      "metadata": {
        "id": "hFIw99qx0hsF"
      },
      "source": [
        "#Evaluation of the peformance of the model"
      ]
    },
    {
      "cell_type": "code",
      "metadata": {
        "colab": {
          "base_uri": "https://localhost:8080/"
        },
        "id": "eB9fhkCP0ktk",
        "outputId": "530325f5-5047-4e7e-a15f-6b5c14e31212"
      },
      "source": [
        "#Computing RMSE\n",
        "pred = forecast.iloc[-12:]\n",
        "rmse(test['y'], pred['yhat'])"
      ],
      "execution_count": 19,
      "outputs": [
        {
          "output_type": "execute_result",
          "data": {
            "text/plain": [
              "6167.723581003236"
            ]
          },
          "metadata": {
            "tags": []
          },
          "execution_count": 19
        }
      ]
    },
    {
      "cell_type": "code",
      "metadata": {
        "colab": {
          "base_uri": "https://localhost:8080/"
        },
        "id": "LgVGQWP_1IHx",
        "outputId": "d4867e71-9880-4cda-b488-453313dedd7e"
      },
      "source": [
        "#Computing mean\n",
        "test['y'].mean()"
      ],
      "execution_count": 20,
      "outputs": [
        {
          "output_type": "execute_result",
          "data": {
            "text/plain": [
              "268739.6666666667"
            ]
          },
          "metadata": {
            "tags": []
          },
          "execution_count": 20
        }
      ]
    },
    {
      "cell_type": "markdown",
      "metadata": {
        "id": "F_bnJ7d6a1iw"
      },
      "source": [
        "#Cross Validation"
      ]
    },
    {
      "cell_type": "code",
      "metadata": {
        "id": "MZabdkKA1L-I",
        "colab": {
          "base_uri": "https://localhost:8080/",
          "height": 83,
          "referenced_widgets": [
            "a98421980077415e8137405e46011e27",
            "24e74b58cd224f94974e5ec3ccbbcc73",
            "ed9ec7c536f642238ba57eb60bd32736",
            "3280483901454d288cc018d350a3628a",
            "57d40c7316594f95ab10082a5c59704c",
            "775e30e7c90b418ba4709724e61a567a",
            "673fec731b0f490cb61fa331e47546a3",
            "a4c1f16c47a146a7963a940b79bc3591"
          ]
        },
        "outputId": "d3788142-0860-4080-ded1-155a49955bd7"
      },
      "source": [
        "#Cross validation in the model\n",
        "initial = str(5*365)+' days'\n",
        "period = str(5*365)+' days'\n",
        "horizon = str(365)+' days'\n",
        "\n",
        "cross_val = cross_validation(m,initial= initial, period = period,horizon=horizon)"
      ],
      "execution_count": 37,
      "outputs": [
        {
          "output_type": "stream",
          "text": [
            "INFO:fbprophet:Making 9 forecasts with cutoffs between 1977-12-11 00:00:00 and 2017-12-01 00:00:00\n"
          ],
          "name": "stderr"
        },
        {
          "output_type": "display_data",
          "data": {
            "application/vnd.jupyter.widget-view+json": {
              "model_id": "a98421980077415e8137405e46011e27",
              "version_minor": 0,
              "version_major": 2
            },
            "text/plain": [
              "HBox(children=(FloatProgress(value=0.0, max=9.0), HTML(value='')))"
            ]
          },
          "metadata": {
            "tags": []
          }
        },
        {
          "output_type": "stream",
          "text": [
            "\n"
          ],
          "name": "stdout"
        }
      ]
    },
    {
      "cell_type": "code",
      "metadata": {
        "colab": {
          "base_uri": "https://localhost:8080/",
          "height": 204
        },
        "id": "j6Na0suDa_9x",
        "outputId": "f5394110-2f58-4b4d-e5f9-e68dae3f72f4"
      },
      "source": [
        "#Checking cross validation\n",
        "cross_val.head()"
      ],
      "execution_count": 38,
      "outputs": [
        {
          "output_type": "execute_result",
          "data": {
            "text/html": [
              "<div>\n",
              "<style scoped>\n",
              "    .dataframe tbody tr th:only-of-type {\n",
              "        vertical-align: middle;\n",
              "    }\n",
              "\n",
              "    .dataframe tbody tr th {\n",
              "        vertical-align: top;\n",
              "    }\n",
              "\n",
              "    .dataframe thead th {\n",
              "        text-align: right;\n",
              "    }\n",
              "</style>\n",
              "<table border=\"1\" class=\"dataframe\">\n",
              "  <thead>\n",
              "    <tr style=\"text-align: right;\">\n",
              "      <th></th>\n",
              "      <th>ds</th>\n",
              "      <th>yhat</th>\n",
              "      <th>yhat_lower</th>\n",
              "      <th>yhat_upper</th>\n",
              "      <th>y</th>\n",
              "      <th>cutoff</th>\n",
              "    </tr>\n",
              "  </thead>\n",
              "  <tbody>\n",
              "    <tr>\n",
              "      <th>0</th>\n",
              "      <td>1978-01-01</td>\n",
              "      <td>112522.801736</td>\n",
              "      <td>110915.920347</td>\n",
              "      <td>114197.942617</td>\n",
              "      <td>109838.0</td>\n",
              "      <td>1977-12-11</td>\n",
              "    </tr>\n",
              "    <tr>\n",
              "      <th>1</th>\n",
              "      <td>1978-02-01</td>\n",
              "      <td>108452.760395</td>\n",
              "      <td>106849.893359</td>\n",
              "      <td>110101.831401</td>\n",
              "      <td>107018.0</td>\n",
              "      <td>1977-12-11</td>\n",
              "    </tr>\n",
              "    <tr>\n",
              "      <th>2</th>\n",
              "      <td>1978-03-01</td>\n",
              "      <td>122874.803803</td>\n",
              "      <td>121278.158865</td>\n",
              "      <td>124393.136388</td>\n",
              "      <td>125035.0</td>\n",
              "      <td>1977-12-11</td>\n",
              "    </tr>\n",
              "    <tr>\n",
              "      <th>3</th>\n",
              "      <td>1978-04-01</td>\n",
              "      <td>125277.524169</td>\n",
              "      <td>123583.364265</td>\n",
              "      <td>126796.872039</td>\n",
              "      <td>122741.0</td>\n",
              "      <td>1977-12-11</td>\n",
              "    </tr>\n",
              "    <tr>\n",
              "      <th>4</th>\n",
              "      <td>1978-05-01</td>\n",
              "      <td>132901.360373</td>\n",
              "      <td>131356.936251</td>\n",
              "      <td>134572.830102</td>\n",
              "      <td>134427.0</td>\n",
              "      <td>1977-12-11</td>\n",
              "    </tr>\n",
              "  </tbody>\n",
              "</table>\n",
              "</div>"
            ],
            "text/plain": [
              "          ds           yhat     yhat_lower     yhat_upper         y     cutoff\n",
              "0 1978-01-01  112522.801736  110915.920347  114197.942617  109838.0 1977-12-11\n",
              "1 1978-02-01  108452.760395  106849.893359  110101.831401  107018.0 1977-12-11\n",
              "2 1978-03-01  122874.803803  121278.158865  124393.136388  125035.0 1977-12-11\n",
              "3 1978-04-01  125277.524169  123583.364265  126796.872039  122741.0 1977-12-11\n",
              "4 1978-05-01  132901.360373  131356.936251  134572.830102  134427.0 1977-12-11"
            ]
          },
          "metadata": {
            "tags": []
          },
          "execution_count": 38
        }
      ]
    },
    {
      "cell_type": "code",
      "metadata": {
        "colab": {
          "base_uri": "https://localhost:8080/"
        },
        "id": "xuQDtLOrcC2J",
        "outputId": "ada976a2-e594-4c12-8edc-d207e2da48fb"
      },
      "source": [
        "#Checking the length of the cv result\n",
        "len(cross_val)"
      ],
      "execution_count": 39,
      "outputs": [
        {
          "output_type": "execute_result",
          "data": {
            "text/plain": [
              "108"
            ]
          },
          "metadata": {
            "tags": []
          },
          "execution_count": 39
        }
      ]
    },
    {
      "cell_type": "code",
      "metadata": {
        "colab": {
          "base_uri": "https://localhost:8080/",
          "height": 419
        },
        "id": "G0_CU3RbcRUq",
        "outputId": "70f7067d-99a4-4785-fe96-fadfe749f9f9"
      },
      "source": [
        "#Extracting the performance matrix\n",
        "performance_metrics(cross_val)"
      ],
      "execution_count": 40,
      "outputs": [
        {
          "output_type": "execute_result",
          "data": {
            "text/html": [
              "<div>\n",
              "<style scoped>\n",
              "    .dataframe tbody tr th:only-of-type {\n",
              "        vertical-align: middle;\n",
              "    }\n",
              "\n",
              "    .dataframe tbody tr th {\n",
              "        vertical-align: top;\n",
              "    }\n",
              "\n",
              "    .dataframe thead th {\n",
              "        text-align: right;\n",
              "    }\n",
              "</style>\n",
              "<table border=\"1\" class=\"dataframe\">\n",
              "  <thead>\n",
              "    <tr style=\"text-align: right;\">\n",
              "      <th></th>\n",
              "      <th>horizon</th>\n",
              "      <th>mse</th>\n",
              "      <th>rmse</th>\n",
              "      <th>mae</th>\n",
              "      <th>mape</th>\n",
              "      <th>mdape</th>\n",
              "      <th>coverage</th>\n",
              "    </tr>\n",
              "  </thead>\n",
              "  <tbody>\n",
              "    <tr>\n",
              "      <th>0</th>\n",
              "      <td>52 days</td>\n",
              "      <td>1.428687e+07</td>\n",
              "      <td>3779.798048</td>\n",
              "      <td>2829.041379</td>\n",
              "      <td>0.015635</td>\n",
              "      <td>0.013035</td>\n",
              "      <td>0.7</td>\n",
              "    </tr>\n",
              "    <tr>\n",
              "      <th>1</th>\n",
              "      <td>53 days</td>\n",
              "      <td>1.511269e+07</td>\n",
              "      <td>3887.504059</td>\n",
              "      <td>2953.833447</td>\n",
              "      <td>0.016707</td>\n",
              "      <td>0.013035</td>\n",
              "      <td>0.7</td>\n",
              "    </tr>\n",
              "    <tr>\n",
              "      <th>2</th>\n",
              "      <td>54 days</td>\n",
              "      <td>1.512318e+07</td>\n",
              "      <td>3888.852930</td>\n",
              "      <td>2957.262391</td>\n",
              "      <td>0.016532</td>\n",
              "      <td>0.012803</td>\n",
              "      <td>0.7</td>\n",
              "    </tr>\n",
              "    <tr>\n",
              "      <th>3</th>\n",
              "      <td>56 days</td>\n",
              "      <td>1.926494e+07</td>\n",
              "      <td>4389.184965</td>\n",
              "      <td>3590.411325</td>\n",
              "      <td>0.020414</td>\n",
              "      <td>0.016066</td>\n",
              "      <td>0.6</td>\n",
              "    </tr>\n",
              "    <tr>\n",
              "      <th>4</th>\n",
              "      <td>57 days</td>\n",
              "      <td>2.160395e+07</td>\n",
              "      <td>4648.004526</td>\n",
              "      <td>3849.666145</td>\n",
              "      <td>0.021644</td>\n",
              "      <td>0.021877</td>\n",
              "      <td>0.5</td>\n",
              "    </tr>\n",
              "    <tr>\n",
              "      <th>...</th>\n",
              "      <td>...</td>\n",
              "      <td>...</td>\n",
              "      <td>...</td>\n",
              "      <td>...</td>\n",
              "      <td>...</td>\n",
              "      <td>...</td>\n",
              "      <td>...</td>\n",
              "    </tr>\n",
              "    <tr>\n",
              "      <th>94</th>\n",
              "      <td>360 days</td>\n",
              "      <td>3.489549e+07</td>\n",
              "      <td>5907.240484</td>\n",
              "      <td>3503.308712</td>\n",
              "      <td>0.016107</td>\n",
              "      <td>0.010325</td>\n",
              "      <td>0.7</td>\n",
              "    </tr>\n",
              "    <tr>\n",
              "      <th>95</th>\n",
              "      <td>361 days</td>\n",
              "      <td>3.486607e+07</td>\n",
              "      <td>5904.749802</td>\n",
              "      <td>3470.706338</td>\n",
              "      <td>0.015937</td>\n",
              "      <td>0.010325</td>\n",
              "      <td>0.7</td>\n",
              "    </tr>\n",
              "    <tr>\n",
              "      <th>96</th>\n",
              "      <td>363 days</td>\n",
              "      <td>4.836505e+07</td>\n",
              "      <td>6954.498721</td>\n",
              "      <td>4246.412300</td>\n",
              "      <td>0.019077</td>\n",
              "      <td>0.010325</td>\n",
              "      <td>0.7</td>\n",
              "    </tr>\n",
              "    <tr>\n",
              "      <th>97</th>\n",
              "      <td>364 days</td>\n",
              "      <td>1.994963e+07</td>\n",
              "      <td>4466.500853</td>\n",
              "      <td>2599.982391</td>\n",
              "      <td>0.012111</td>\n",
              "      <td>0.006211</td>\n",
              "      <td>0.8</td>\n",
              "    </tr>\n",
              "    <tr>\n",
              "      <th>98</th>\n",
              "      <td>365 days</td>\n",
              "      <td>3.275742e+07</td>\n",
              "      <td>5723.410191</td>\n",
              "      <td>3712.511927</td>\n",
              "      <td>0.016247</td>\n",
              "      <td>0.010325</td>\n",
              "      <td>0.7</td>\n",
              "    </tr>\n",
              "  </tbody>\n",
              "</table>\n",
              "<p>99 rows × 7 columns</p>\n",
              "</div>"
            ],
            "text/plain": [
              "    horizon           mse         rmse  ...      mape     mdape  coverage\n",
              "0   52 days  1.428687e+07  3779.798048  ...  0.015635  0.013035       0.7\n",
              "1   53 days  1.511269e+07  3887.504059  ...  0.016707  0.013035       0.7\n",
              "2   54 days  1.512318e+07  3888.852930  ...  0.016532  0.012803       0.7\n",
              "3   56 days  1.926494e+07  4389.184965  ...  0.020414  0.016066       0.6\n",
              "4   57 days  2.160395e+07  4648.004526  ...  0.021644  0.021877       0.5\n",
              "..      ...           ...          ...  ...       ...       ...       ...\n",
              "94 360 days  3.489549e+07  5907.240484  ...  0.016107  0.010325       0.7\n",
              "95 361 days  3.486607e+07  5904.749802  ...  0.015937  0.010325       0.7\n",
              "96 363 days  4.836505e+07  6954.498721  ...  0.019077  0.010325       0.7\n",
              "97 364 days  1.994963e+07  4466.500853  ...  0.012111  0.006211       0.8\n",
              "98 365 days  3.275742e+07  5723.410191  ...  0.016247  0.010325       0.7\n",
              "\n",
              "[99 rows x 7 columns]"
            ]
          },
          "metadata": {
            "tags": []
          },
          "execution_count": 40
        }
      ]
    },
    {
      "cell_type": "code",
      "metadata": {
        "colab": {
          "base_uri": "https://localhost:8080/",
          "height": 388
        },
        "id": "dlp97Rkzcbd0",
        "outputId": "b185322b-a811-4394-fd18-bf638184b716"
      },
      "source": [
        "#Plotting RMSE\n",
        "plot_cross_validation_metric(cross_val, metric='rmse');"
      ],
      "execution_count": 41,
      "outputs": [
        {
          "output_type": "display_data",
          "data": {
            "image/png": "[encoded data removed]",
            "text/plain": [
              "<Figure size 720x432 with 1 Axes>"
            ]
          },
          "metadata": {
            "tags": []
          }
        }
      ]
    },
    {
      "cell_type": "code",
      "metadata": {
        "colab": {
          "base_uri": "https://localhost:8080/",
          "height": 388
        },
        "id": "HZe35z5RcrzU",
        "outputId": "9f73f34a-51e5-47d2-ad0d-3235dd953211"
      },
      "source": [
        "#Plotting MAPE\n",
        "plot_cross_validation_metric(cross_val, metric='mape');"
      ],
      "execution_count": 42,
      "outputs": [
        {
          "output_type": "display_data",
          "data": {
            "image/png": "[encoded data removed]",
            "text/plain": [
              "<Figure size 720x432 with 1 Axes>"
            ]
          },
          "metadata": {
            "tags": []
          }
        }
      ]
    }
  ]
}