{
 "cells": [
  {
   "cell_type": "markdown",
   "metadata": {},
   "source": [
    "# Python Datetime"
   ]
  },
  {
   "cell_type": "code",
   "execution_count": 1,
   "metadata": {},
   "outputs": [],
   "source": [
    "#Importing library\n",
    "from datetime import datetime\n",
    "import numpy as np\n",
    "import pandas as pd"
   ]
  },
  {
   "cell_type": "code",
   "execution_count": 18,
   "metadata": {},
   "outputs": [
    {
     "data": {
      "text/plain": [
       "datetime.datetime(2021, 3, 27, 15, 0, 43, 173192)"
      ]
     },
     "execution_count": 18,
     "metadata": {},
     "output_type": "execute_result"
    }
   ],
   "source": [
    "#Extracting current time\n",
    "datetime.now()"
   ]
  },
  {
   "cell_type": "code",
   "execution_count": 17,
   "metadata": {},
   "outputs": [
    {
     "name": "stdout",
     "output_type": "stream",
     "text": [
      "Weekday short version                                        %a  Sat\n",
      "Weekday full version                                         %A  Saturday\n",
      "Weekday as a number 0-6,0 is Sunday                          %w  6\n",
      "Day of month 01-31                                           %d  02\n",
      "Month name, short version                                    %b  Jan\n",
      "Month name, full version                                     %B  January\n",
      "Month as a number 01-12                                      %m  01\n",
      "Year,short version,without century                           %y  21\n",
      "Year,full version                                            %Y  2021\n",
      "Hour 00-23                                                   %H  13\n",
      "Hour 00-12                                                   %I  01\n",
      "AM/PM                                                        %p  PM\n",
      "Minute 00-59                                                 %M  30\n",
      "Second 00-59                                                 %S  15\n",
      "Microsecond 000000-999999                                    %f  000000\n",
      "UTC offset                                                   %z  \n",
      "Timezone                                                     %Z  \n",
      "Day number of year 001-366                                   %j  002\n",
      "Week number of year, Sunday as the first day of week, 00-53  %U  00\n",
      "Week number of year, Monday as the first day of week, 00-53  %W  00\n",
      "Local version of date and time                               %c  Sat Jan  2 13:30:15 2021\n",
      "Local version of date                                        %x  01/02/21\n",
      "Local version of time                                        %X  13:30:15\n",
      "A % character                                                %%  %\n",
      "ISO 8601 year                                                %G  2020\n",
      "ISO 8601 weekday (1-7)                                       %u  6\n",
      "ISO 8601 weeknumber (01-53)                                  %V  53\n"
     ]
    }
   ],
   "source": [
    "#Creating python date time formate list\n",
    "date_formate = ['%a','%A','%w','%d','%b','%B','%m','%y','%Y','%H','%I','%p','%M','%S','%f','%z','%Z','%j','%U','%W','%c','%x',\n",
    "                '%X','%''%','%G','%u','%V']\n",
    "desc = ['Weekday short version',\n",
    "        'Weekday full version',\n",
    "        'Weekday as a number 0-6,0 is Sunday',\n",
    "        'Day of month 01-31',\n",
    "        'Month name, short version',\n",
    "        'Month name, full version',\n",
    "        'Month as a number 01-12',\n",
    "        'Year,short version,without century',\n",
    "        'Year,full version',\n",
    "        'Hour 00-23',\n",
    "        'Hour 00-12',\n",
    "        'AM/PM',\n",
    "        'Minute 00-59',\n",
    "        'Second 00-59',\n",
    "        'Microsecond 000000-999999',\n",
    "        'UTC offset',\n",
    "        'Timezone',\n",
    "        'Day number of year 001-366',\n",
    "        'Week number of year, Sunday as the first day of week, 00-53',\n",
    "        'Week number of year, Monday as the first day of week, 00-53',\n",
    "        'Local version of date and time',\n",
    "        'Local version of date',\n",
    "        'Local version of time',\n",
    "        'A % character',\n",
    "        'ISO 8601 year',\n",
    "        'ISO 8601 weekday (1-7)',\n",
    "        'ISO 8601 weeknumber (01-53)']\n",
    "\n",
    "#Creating datetime\n",
    "x = datetime(2021, 1, 2, 13, 30, 15)\n",
    "\n",
    "#Extracting different datetime formates as per the given date time\n",
    "for i,j in zip(date_formate,desc):\n",
    "    print(f'{j:{60}} {i:{3}} {x.strftime(i)}')"
   ]
  },
  {
   "cell_type": "code",
   "execution_count": 19,
   "metadata": {},
   "outputs": [
    {
     "data": {
      "text/plain": [
       "datetime.datetime(2021, 1, 2, 13, 30, 15)"
      ]
     },
     "execution_count": 19,
     "metadata": {},
     "output_type": "execute_result"
    }
   ],
   "source": [
    "#Creating datetime\n",
    "date = datetime(2021, #year\n",
    "                1,    #month\n",
    "                2,    #day\n",
    "                13,   #hour\n",
    "                30,   #minute\n",
    "                15)   #second\n",
    "date"
   ]
  },
  {
   "cell_type": "code",
   "execution_count": 20,
   "metadata": {},
   "outputs": [
    {
     "data": {
      "text/plain": [
       "datetime.datetime"
      ]
     },
     "execution_count": 20,
     "metadata": {},
     "output_type": "execute_result"
    }
   ],
   "source": [
    "#Checking data type of date\n",
    "type(date)"
   ]
  },
  {
   "cell_type": "code",
   "execution_count": 21,
   "metadata": {},
   "outputs": [
    {
     "name": "stdout",
     "output_type": "stream",
     "text": [
      "2021\n",
      "1\n",
      "2\n",
      "13\n",
      "30\n",
      "15\n"
     ]
    }
   ],
   "source": [
    "#Extracting year, month, day, hour, minute & second\n",
    "print(date.year)\n",
    "print(date.month)\n",
    "print(date.day)\n",
    "print(date.hour)\n",
    "print(date.minute)\n",
    "print(date.second)"
   ]
  },
  {
   "cell_type": "markdown",
   "metadata": {},
   "source": [
    "# Creating datetime data through Numpy Array"
   ]
  },
  {
   "cell_type": "code",
   "execution_count": 34,
   "metadata": {},
   "outputs": [
    {
     "data": {
      "text/plain": [
       "array(['2020-03-15', '2020-03-16', '2020-03-07'], dtype='<U10')"
      ]
     },
     "execution_count": 34,
     "metadata": {},
     "output_type": "execute_result"
    }
   ],
   "source": [
    "#Creating three datetime in numpy (yyyy-mm-dd)\n",
    "date1 = np.array(['2020-03-15', '2020-03-16', '2020-03-07'])\n",
    "date1"
   ]
  },
  {
   "cell_type": "code",
   "execution_count": 35,
   "metadata": {},
   "outputs": [
    {
     "data": {
      "text/plain": [
       "numpy.ndarray"
      ]
     },
     "execution_count": 35,
     "metadata": {},
     "output_type": "execute_result"
    }
   ],
   "source": [
    "#Checking data type\n",
    "type(date1)"
   ]
  },
  {
   "cell_type": "markdown",
   "metadata": {},
   "source": [
    "Data type showing <U10 numpy.ndarray"
   ]
  },
  {
   "cell_type": "code",
   "execution_count": 36,
   "metadata": {},
   "outputs": [],
   "source": [
    "#Changing data type\n",
    "date1 = date1.astype('datetime64')"
   ]
  },
  {
   "cell_type": "code",
   "execution_count": 37,
   "metadata": {},
   "outputs": [
    {
     "data": {
      "text/plain": [
       "array(['2020-03-15', '2020-03-16', '2020-03-07'], dtype='datetime64[D]')"
      ]
     },
     "execution_count": 37,
     "metadata": {},
     "output_type": "execute_result"
    }
   ],
   "source": [
    "#Checking data type\n",
    "date1"
   ]
  },
  {
   "cell_type": "markdown",
   "metadata": {},
   "source": [
    "Data type changed to datetime formate"
   ]
  },
  {
   "cell_type": "markdown",
   "metadata": {},
   "source": [
    "# Creating datetime data through Numpy Array with different formates"
   ]
  },
  {
   "cell_type": "code",
   "execution_count": 41,
   "metadata": {},
   "outputs": [
    {
     "name": "stdout",
     "output_type": "stream",
     "text": [
      "datetime64[Y] ['2020' '2020' '2020']\n",
      "datetime64[M] ['2020-03' '2020-03' '2020-03']\n",
      "datetime64[D] ['2020-03-15' '2020-03-16' '2020-03-07']\n",
      "datetime64[h] ['2020-03-15T00' '2020-03-16T00' '2020-03-07T00']\n",
      "datetime64[m] ['2020-03-15T00:00' '2020-03-16T00:00' '2020-03-07T00:00']\n",
      "datetime64[s] ['2020-03-15T00:00:00' '2020-03-16T00:00:00' '2020-03-07T00:00:00']\n",
      "datetime64[ms] ['2020-03-15T00:00:00.000' '2020-03-16T00:00:00.000'\n",
      " '2020-03-07T00:00:00.000']\n"
     ]
    }
   ],
   "source": [
    "#Creating datetime formates\n",
    "datetime_formate = ['datetime64[Y]','datetime64[M]', 'datetime64[D]', 'datetime64[h]', 'datetime64[m]', 'datetime64[s]', 'datetime64[ms]']\n",
    "\n",
    "#Creating numpy array with different date formates\n",
    "for i in datetime_formate:\n",
    "    date_new = np.array(['2020-03-15', '2020-03-16', '2020-03-07'], dtype = i)\n",
    "    print(i,date_new)"
   ]
  },
  {
   "cell_type": "markdown",
   "metadata": {},
   "source": [
    "# Creating time series data through np.arange function"
   ]
  },
  {
   "cell_type": "markdown",
   "metadata": {},
   "source": [
    "## Creating date series"
   ]
  },
  {
   "cell_type": "code",
   "execution_count": 45,
   "metadata": {},
   "outputs": [
    {
     "data": {
      "text/plain": [
       "array(['2021-06-01', '2021-06-02', '2021-06-03', '2021-06-04',\n",
       "       '2021-06-05', '2021-06-06', '2021-06-07', '2021-06-08',\n",
       "       '2021-06-09', '2021-06-10', '2021-06-11', '2021-06-12',\n",
       "       '2021-06-13', '2021-06-14', '2021-06-15', '2021-06-16',\n",
       "       '2021-06-17', '2021-06-18', '2021-06-19', '2021-06-20',\n",
       "       '2021-06-21', '2021-06-22', '2021-06-23', '2021-06-24',\n",
       "       '2021-06-25', '2021-06-26', '2021-06-27', '2021-06-28',\n",
       "       '2021-06-29'], dtype='datetime64[D]')"
      ]
     },
     "execution_count": 45,
     "metadata": {},
     "output_type": "execute_result"
    }
   ],
   "source": [
    "#Extracting 30 days from June\n",
    "np.arange('2021-06-01', # Date start\n",
    "          '2021-06-30', # Date end\n",
    "          1, #Days gap between the dates\n",
    "          dtype = 'datetime64[D]')"
   ]
  },
  {
   "cell_type": "markdown",
   "metadata": {},
   "source": [
    "## Creating month series"
   ]
  },
  {
   "cell_type": "code",
   "execution_count": 44,
   "metadata": {},
   "outputs": [
    {
     "data": {
      "text/plain": [
       "array(['2021-01', '2021-02', '2021-03', '2021-04', '2021-05', '2021-06',\n",
       "       '2021-07', '2021-08', '2021-09', '2021-10', '2021-11', '2021-12'],\n",
       "      dtype='datetime64[M]')"
      ]
     },
     "execution_count": 44,
     "metadata": {},
     "output_type": "execute_result"
    }
   ],
   "source": [
    "#Extracting 12 monhts\n",
    "np.arange('2021-01-01', \n",
    "          '2022-01-31',\n",
    "          1, \n",
    "          dtype = 'datetime64[M]')"
   ]
  },
  {
   "cell_type": "markdown",
   "metadata": {},
   "source": [
    "## Creating year series"
   ]
  },
  {
   "cell_type": "code",
   "execution_count": 46,
   "metadata": {},
   "outputs": [
    {
     "data": {
      "text/plain": [
       "array(['2007', '2008', '2009', '2010', '2011', '2012', '2013', '2014',\n",
       "       '2015', '2016', '2017', '2018', '2019', '2020'],\n",
       "      dtype='datetime64[Y]')"
      ]
     },
     "execution_count": 46,
     "metadata": {},
     "output_type": "execute_result"
    }
   ],
   "source": [
    "#Extracting Year from 2007 to 2021\n",
    "np.arange('2007-01-01', \n",
    "          '2021-12-31',\n",
    "          1, \n",
    "          dtype = 'datetime64[Y]')"
   ]
  },
  {
   "cell_type": "code",
   "execution_count": 54,
   "metadata": {},
   "outputs": [
    {
     "data": {
      "text/plain": [
       "array(['2007', '2008', '2009', '2010', '2011', '2012', '2013', '2014',\n",
       "       '2015', '2016', '2017', '2018', '2019', '2020'],\n",
       "      dtype='datetime64[Y]')"
      ]
     },
     "execution_count": 54,
     "metadata": {},
     "output_type": "execute_result"
    }
   ],
   "source": [
    "#Extracting Year from 2007 to 2021\n",
    "np.arange('2007', \n",
    "          '2021',\n",
    "          1, \n",
    "          dtype = 'datetime64[Y]')"
   ]
  },
  {
   "cell_type": "markdown",
   "metadata": {},
   "source": [
    "## Creating minutes series"
   ]
  },
  {
   "cell_type": "code",
   "execution_count": 49,
   "metadata": {},
   "outputs": [
    {
     "data": {
      "text/plain": [
       "array(['2021-01-01T00:00', '2021-01-01T01:00', '2021-01-01T02:00',\n",
       "       '2021-01-01T03:00', '2021-01-01T04:00', '2021-01-01T05:00',\n",
       "       '2021-01-01T06:00', '2021-01-01T07:00', '2021-01-01T08:00',\n",
       "       '2021-01-01T09:00', '2021-01-01T10:00', '2021-01-01T11:00',\n",
       "       '2021-01-01T12:00', '2021-01-01T13:00', '2021-01-01T14:00',\n",
       "       '2021-01-01T15:00', '2021-01-01T16:00', '2021-01-01T17:00',\n",
       "       '2021-01-01T18:00', '2021-01-01T19:00', '2021-01-01T20:00',\n",
       "       '2021-01-01T21:00', '2021-01-01T22:00', '2021-01-01T23:00'],\n",
       "      dtype='datetime64[m]')"
      ]
     },
     "execution_count": 49,
     "metadata": {},
     "output_type": "execute_result"
    }
   ],
   "source": [
    "#Extracting minutes in one day\n",
    "np.arange('2021-01-01', \n",
    "          '2021-01-02',\n",
    "          60, # one hours gap\n",
    "          dtype = 'datetime64[m]')"
   ]
  },
  {
   "cell_type": "code",
   "execution_count": 53,
   "metadata": {},
   "outputs": [
    {
     "data": {
      "text/plain": [
       "array(['2021-01-01T00:00:00', '2021-01-01T00:01:00',\n",
       "       '2021-01-01T00:02:00', ..., '2021-01-01T23:57:00',\n",
       "       '2021-01-01T23:58:00', '2021-01-01T23:59:00'],\n",
       "      dtype='datetime64[s]')"
      ]
     },
     "execution_count": 53,
     "metadata": {},
     "output_type": "execute_result"
    }
   ],
   "source": [
    "#Extracting second in one day\n",
    "np.arange('2021-01-01', \n",
    "          '2021-01-02',\n",
    "          60, # one hours gap\n",
    "          dtype = 'datetime64[s]')"
   ]
  },
  {
   "cell_type": "markdown",
   "metadata": {},
   "source": [
    "# Creating Time Series Date through Pandas"
   ]
  },
  {
   "cell_type": "markdown",
   "metadata": {},
   "source": [
    "## Creating date series"
   ]
  },
  {
   "cell_type": "code",
   "execution_count": 56,
   "metadata": {},
   "outputs": [
    {
     "data": {
      "text/plain": [
       "DatetimeIndex(['2021-01-01', '2021-01-02', '2021-01-03', '2021-01-04',\n",
       "               '2021-01-05', '2021-01-06', '2021-01-07', '2021-01-08',\n",
       "               '2021-01-09', '2021-01-10', '2021-01-11', '2021-01-12',\n",
       "               '2021-01-13', '2021-01-14', '2021-01-15', '2021-01-16',\n",
       "               '2021-01-17', '2021-01-18', '2021-01-19', '2021-01-20',\n",
       "               '2021-01-21', '2021-01-22', '2021-01-23', '2021-01-24',\n",
       "               '2021-01-25', '2021-01-26', '2021-01-27', '2021-01-28',\n",
       "               '2021-01-29', '2021-01-30', '2021-01-31'],\n",
       "              dtype='datetime64[ns]', freq='D')"
      ]
     },
     "execution_count": 56,
     "metadata": {},
     "output_type": "execute_result"
    }
   ],
   "source": [
    "#Creating 30 days time series\n",
    "pd.date_range('2021-01-01',\n",
    "             periods=31,\n",
    "             freq='D')"
   ]
  },
  {
   "cell_type": "code",
   "execution_count": 57,
   "metadata": {},
   "outputs": [
    {
     "data": {
      "text/plain": [
       "DatetimeIndex(['2021-01-01', '2021-01-02', '2021-01-03', '2021-01-04',\n",
       "               '2021-01-05', '2021-01-06', '2021-01-07', '2021-01-08',\n",
       "               '2021-01-09', '2021-01-10', '2021-01-11', '2021-01-12',\n",
       "               '2021-01-13', '2021-01-14', '2021-01-15', '2021-01-16',\n",
       "               '2021-01-17', '2021-01-18', '2021-01-19', '2021-01-20',\n",
       "               '2021-01-21', '2021-01-22', '2021-01-23', '2021-01-24',\n",
       "               '2021-01-25', '2021-01-26', '2021-01-27', '2021-01-28',\n",
       "               '2021-01-29', '2021-01-30', '2021-01-31'],\n",
       "              dtype='datetime64[ns]', freq='D')"
      ]
     },
     "execution_count": 57,
     "metadata": {},
     "output_type": "execute_result"
    }
   ],
   "source": [
    "#Creating 30 days time series\n",
    "pd.date_range('Jan 01, 2021',\n",
    "             periods=31,\n",
    "             freq='D')"
   ]
  },
  {
   "cell_type": "code",
   "execution_count": 66,
   "metadata": {},
   "outputs": [
    {
     "data": {
      "text/plain": [
       "DatetimeIndex(['2021-01-01', '2021-01-02', '2021-01-03', '2021-01-04',\n",
       "               '2021-01-05', '2021-01-06', '2021-01-07', '2021-01-08',\n",
       "               '2021-01-09', '2021-01-10', '2021-01-11', '2021-01-12',\n",
       "               '2021-01-13', '2021-01-14', '2021-01-15', '2021-01-16',\n",
       "               '2021-01-17', '2021-01-18', '2021-01-19', '2021-01-20',\n",
       "               '2021-01-21', '2021-01-22', '2021-01-23', '2021-01-24',\n",
       "               '2021-01-25', '2021-01-26', '2021-01-27', '2021-01-28',\n",
       "               '2021-01-29', '2021-01-30', '2021-01-31'],\n",
       "              dtype='datetime64[ns]', freq='D')"
      ]
     },
     "execution_count": 66,
     "metadata": {},
     "output_type": "execute_result"
    }
   ],
   "source": [
    "#Creating 30 days time series\n",
    "pd.date_range('01/01/2021',\n",
    "             periods=31,\n",
    "             freq='D')"
   ]
  },
  {
   "cell_type": "markdown",
   "metadata": {},
   "source": [
    "## Creating month series"
   ]
  },
  {
   "cell_type": "code",
   "execution_count": 58,
   "metadata": {},
   "outputs": [
    {
     "data": {
      "text/plain": [
       "DatetimeIndex(['2021-01-31', '2021-02-28', '2021-03-31', '2021-04-30',\n",
       "               '2021-05-31', '2021-06-30', '2021-07-31', '2021-08-31',\n",
       "               '2021-09-30', '2021-10-31', '2021-11-30', '2021-12-31'],\n",
       "              dtype='datetime64[ns]', freq='M')"
      ]
     },
     "execution_count": 58,
     "metadata": {},
     "output_type": "execute_result"
    }
   ],
   "source": [
    "#Creating 12 month time series\n",
    "pd.date_range('2021-01-01',\n",
    "             periods=12,\n",
    "             freq='M')"
   ]
  },
  {
   "cell_type": "markdown",
   "metadata": {},
   "source": [
    "## Creating year series"
   ]
  },
  {
   "cell_type": "code",
   "execution_count": 59,
   "metadata": {},
   "outputs": [
    {
     "data": {
      "text/plain": [
       "DatetimeIndex(['2021-12-31', '2022-12-31', '2023-12-31', '2024-12-31',\n",
       "               '2025-12-31', '2026-12-31', '2027-12-31', '2028-12-31',\n",
       "               '2029-12-31', '2030-12-31', '2031-12-31', '2032-12-31',\n",
       "               '2033-12-31', '2034-12-31', '2035-12-31', '2036-12-31',\n",
       "               '2037-12-31', '2038-12-31', '2039-12-31', '2040-12-31',\n",
       "               '2041-12-31', '2042-12-31', '2043-12-31', '2044-12-31',\n",
       "               '2045-12-31', '2046-12-31', '2047-12-31', '2048-12-31',\n",
       "               '2049-12-31', '2050-12-31'],\n",
       "              dtype='datetime64[ns]', freq='A-DEC')"
      ]
     },
     "execution_count": 59,
     "metadata": {},
     "output_type": "execute_result"
    }
   ],
   "source": [
    "#Creating 30 years time series\n",
    "pd.date_range('2021-01-01',\n",
    "             periods=30,\n",
    "             freq='Y')"
   ]
  },
  {
   "cell_type": "markdown",
   "metadata": {},
   "source": [
    "## Changing date object into datetime"
   ]
  },
  {
   "cell_type": "code",
   "execution_count": 70,
   "metadata": {},
   "outputs": [
    {
     "data": {
      "text/plain": [
       "DatetimeIndex(['2021-02-01', '2021-02-05'], dtype='datetime64[ns]', freq=None)"
      ]
     },
     "execution_count": 70,
     "metadata": {},
     "output_type": "execute_result"
    }
   ],
   "source": [
    "#Changing date object into date time\n",
    "pd.to_datetime(['02/01/2021', '02/05/2021'])"
   ]
  },
  {
   "cell_type": "code",
   "execution_count": 71,
   "metadata": {},
   "outputs": [
    {
     "data": {
      "text/plain": [
       "DatetimeIndex(['2021-01-02', '2021-05-02'], dtype='datetime64[ns]', freq=None)"
      ]
     },
     "execution_count": 71,
     "metadata": {},
     "output_type": "execute_result"
    }
   ],
   "source": [
    "#Changing date object into date time with dd.mm.yy formate\n",
    "pd.to_datetime(['02/01/2021', '02/05/2021'], format='%d/%m/%Y')"
   ]
  },
  {
   "cell_type": "code",
   "execution_count": 75,
   "metadata": {},
   "outputs": [
    {
     "data": {
      "text/plain": [
       "DatetimeIndex(['2021-01-02', '2021-05-02'], dtype='datetime64[ns]', freq=None)"
      ]
     },
     "execution_count": 75,
     "metadata": {},
     "output_type": "execute_result"
    }
   ],
   "source": [
    "#Changing date object into date time with dd.mm.yy formate\n",
    "pd.to_datetime(['02--01--2021', '02--05--2021'], format='%d--%m--%Y')"
   ]
  },
  {
   "cell_type": "markdown",
   "metadata": {},
   "source": [
    "## Creating time series data"
   ]
  },
  {
   "cell_type": "code",
   "execution_count": 76,
   "metadata": {},
   "outputs": [
    {
     "data": {
      "text/plain": [
       "array([[-0.15344588, -1.68789169],\n",
       "       [-0.99977421, -0.32100835],\n",
       "       [ 0.11950566,  0.78832046]])"
      ]
     },
     "execution_count": 76,
     "metadata": {},
     "output_type": "execute_result"
    }
   ],
   "source": [
    "#Creating row data from numpy\n",
    "data = np.random.randn(3,2)\n",
    "cols = ['X', 'Y']\n",
    "data"
   ]
  },
  {
   "cell_type": "code",
   "execution_count": 77,
   "metadata": {},
   "outputs": [
    {
     "data": {
      "text/plain": [
       "DatetimeIndex(['2020-01-01', '2020-01-02', '2020-01-03'], dtype='datetime64[ns]', freq='D')"
      ]
     },
     "execution_count": 77,
     "metadata": {},
     "output_type": "execute_result"
    }
   ],
   "source": [
    "#Creating date dataframe\n",
    "date_df = pd.date_range('2020-01-01',\n",
    "                       periods=3,\n",
    "                       freq='D')\n",
    "date_df"
   ]
  },
  {
   "cell_type": "code",
   "execution_count": 78,
   "metadata": {},
   "outputs": [
    {
     "data": {
      "text/html": [
       "<div>\n",
       "<style scoped>\n",
       "    .dataframe tbody tr th:only-of-type {\n",
       "        vertical-align: middle;\n",
       "    }\n",
       "\n",
       "    .dataframe tbody tr th {\n",
       "        vertical-align: top;\n",
       "    }\n",
       "\n",
       "    .dataframe thead th {\n",
       "        text-align: right;\n",
       "    }\n",
       "</style>\n",
       "<table border=\"1\" class=\"dataframe\">\n",
       "  <thead>\n",
       "    <tr style=\"text-align: right;\">\n",
       "      <th></th>\n",
       "      <th>X</th>\n",
       "      <th>Y</th>\n",
       "    </tr>\n",
       "  </thead>\n",
       "  <tbody>\n",
       "    <tr>\n",
       "      <th>2020-01-01</th>\n",
       "      <td>-0.153446</td>\n",
       "      <td>-1.687892</td>\n",
       "    </tr>\n",
       "    <tr>\n",
       "      <th>2020-01-02</th>\n",
       "      <td>-0.999774</td>\n",
       "      <td>-0.321008</td>\n",
       "    </tr>\n",
       "    <tr>\n",
       "      <th>2020-01-03</th>\n",
       "      <td>0.119506</td>\n",
       "      <td>0.788320</td>\n",
       "    </tr>\n",
       "  </tbody>\n",
       "</table>\n",
       "</div>"
      ],
      "text/plain": [
       "                   X         Y\n",
       "2020-01-01 -0.153446 -1.687892\n",
       "2020-01-02 -0.999774 -0.321008\n",
       "2020-01-03  0.119506  0.788320"
      ]
     },
     "execution_count": 78,
     "metadata": {},
     "output_type": "execute_result"
    }
   ],
   "source": [
    "#Creating data\n",
    "data_df = pd.DataFrame(data, index=date_df, columns=cols)\n",
    "data_df"
   ]
  },
  {
   "cell_type": "code",
   "execution_count": 79,
   "metadata": {},
   "outputs": [
    {
     "data": {
      "text/plain": [
       "DatetimeIndex(['2020-01-01', '2020-01-02', '2020-01-03'], dtype='datetime64[ns]', freq='D')"
      ]
     },
     "execution_count": 79,
     "metadata": {},
     "output_type": "execute_result"
    }
   ],
   "source": [
    "#Extracting index of the data\n",
    "data_df.index"
   ]
  },
  {
   "cell_type": "code",
   "execution_count": 81,
   "metadata": {},
   "outputs": [
    {
     "data": {
      "text/plain": [
       "Timestamp('2020-01-03 00:00:00', freq='D')"
      ]
     },
     "execution_count": 81,
     "metadata": {},
     "output_type": "execute_result"
    }
   ],
   "source": [
    "#Extracting max date / last date\n",
    "data_df.index.max()"
   ]
  },
  {
   "cell_type": "code",
   "execution_count": 82,
   "metadata": {},
   "outputs": [
    {
     "data": {
      "text/plain": [
       "Timestamp('2020-01-01 00:00:00', freq='D')"
      ]
     },
     "execution_count": 82,
     "metadata": {},
     "output_type": "execute_result"
    }
   ],
   "source": [
    "#Extracting min date / first date\n",
    "data_df.index.min()"
   ]
  },
  {
   "cell_type": "code",
   "execution_count": 83,
   "metadata": {},
   "outputs": [
    {
     "data": {
      "text/plain": [
       "2"
      ]
     },
     "execution_count": 83,
     "metadata": {},
     "output_type": "execute_result"
    }
   ],
   "source": [
    "#Getting index position of max date\n",
    "data_df.index.argmax()"
   ]
  },
  {
   "cell_type": "code",
   "execution_count": 84,
   "metadata": {},
   "outputs": [
    {
     "data": {
      "text/plain": [
       "0"
      ]
     },
     "execution_count": 84,
     "metadata": {},
     "output_type": "execute_result"
    }
   ],
   "source": [
    "#Getting index position of min date\n",
    "data_df.index.argmin()"
   ]
  }
 ],
 "metadata": {
  "kernelspec": {
   "display_name": "Python 3",
   "language": "python",
   "name": "python3"
  },
  "language_info": {
   "codemirror_mode": {
    "name": "ipython",
    "version": 3
   },
   "file_extension": ".py",
   "mimetype": "text/x-python",
   "name": "python",
   "nbconvert_exporter": "python",
   "pygments_lexer": "ipython3",
   "version": "3.8.6"
  },
  "toc": {
   "base_numbering": 1,
   "nav_menu": {
    "height": "431px",
    "width": "410px"
   },
   "number_sections": true,
   "sideBar": true,
   "skip_h1_title": false,
   "title_cell": "Table of Contents",
   "title_sidebar": "Contents",
   "toc_cell": false,
   "toc_position": {},
   "toc_section_display": true,
   "toc_window_display": false
  }
 },
 "nbformat": 4,
 "nbformat_minor": 4
}
